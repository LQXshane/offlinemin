{
 "cells": [
  {
   "cell_type": "code",
   "execution_count": 1,
   "metadata": {
    "collapsed": true
   },
   "outputs": [],
   "source": [
    "import string\n",
    "import datetime\n",
    "from IPython import embed\n",
    "\n",
    "def readFileToArray( filename ):\n",
    "    arr = []\n",
    "    with open( filename ) as file:\n",
    "        for line in file:\n",
    "            tmp = line.strip(string.whitespace)\n",
    "            arr.append(tmp)\n",
    "    file.close()\n",
    "    return arr"
   ]
  },
  {
   "cell_type": "code",
   "execution_count": 2,
   "metadata": {
    "collapsed": true
   },
   "outputs": [],
   "source": [
    "class disjoint_forest:\n",
    "    \n",
    "    def __init__(self, n):\n",
    "        self.p = list(range(n))\n",
    "        self.rank = list(range(n))\n",
    "        \n",
    "    def make_set(x):\n",
    "        self.p[x]  = x\n",
    "    \n",
    "    def link(self, x, y): \n",
    "        # implemented by Union by Rank\n",
    "        if self.rank[x] > self.rank[y]:\n",
    "            self.p[y] = x\n",
    "        elif self.rank[x] < self.rank[y]:\n",
    "            self.p[x] = y\n",
    "        else:\n",
    "            y.rank = y.rank + 1   \n",
    "    \n",
    "    def union(self, x, y):\n",
    "        self.link(self.find_set(x), self.find_set(y))\n",
    "                      \n",
    "    def find_set(self, x): # path compression\n",
    "        if x != self.p[x]:\n",
    "            self.p[x] = self.find_set(self.p[x])\n",
    "        return self.p[x]"
   ]
  },
  {
   "cell_type": "code",
   "execution_count": 3,
   "metadata": {
    "collapsed": true
   },
   "outputs": [],
   "source": [
    "if __name__ == '__main__':\n",
    "    A = readFileToArray(\"hw3test.txt\")\n",
    "    # embed()\n",
    "    # A is just an normal array w/ each number or E having an index"
   ]
  },
  {
   "cell_type": "code",
   "execution_count": 4,
   "metadata": {
    "collapsed": false
   },
   "outputs": [],
   "source": [
    "    m = 0\n",
    "    for element in A:\n",
    "        if element == 'E':\n",
    "            m = m + 1\n",
    "    n = len(A) - m"
   ]
  },
  {
   "cell_type": "code",
   "execution_count": 5,
   "metadata": {
    "collapsed": false
   },
   "outputs": [
    {
     "name": "stdout",
     "output_type": "stream",
     "text": [
      "number of insertions: 100\n",
      "number of extractmins:  50\n",
      "150\n"
     ]
    }
   ],
   "source": [
    "    print \"number of insertions:\", n\n",
    "    print \"number of extractmins: \", m\n",
    "    str(A)\n",
    "    print len(A)"
   ]
  },
  {
   "cell_type": "code",
   "execution_count": 6,
   "metadata": {
    "collapsed": false,
    "scrolled": false
   },
   "outputs": [
    {
     "name": "stdout",
     "output_type": "stream",
     "text": [
      "99 0\n",
      "32 0\n",
      "40 0\n",
      "22 0\n",
      "34 1\n",
      "92 1\n",
      "91 1\n",
      "35 1\n",
      "6 1\n",
      "55 1\n",
      "3 2\n",
      "96 2\n",
      "68 2\n",
      "16 4\n",
      "69 4\n",
      "11 4\n",
      "54 4\n",
      "30 4\n",
      "45 5\n",
      "77 5\n",
      "60 6\n",
      "74 7\n",
      "78 8\n",
      "72 9\n",
      "62 12\n",
      "70 13\n",
      "51 13\n",
      "33 16\n",
      "7 16\n",
      "86 16\n",
      "38 16\n",
      "100 18\n",
      "58 19\n",
      "76 20\n",
      "81 20\n",
      "89 20\n",
      "42 21\n",
      "28 21\n",
      "17 21\n",
      "41 22\n",
      "47 22\n",
      "98 22\n",
      "80 23\n",
      "14 24\n",
      "46 25\n",
      "56 27\n",
      "63 27\n",
      "93 28\n",
      "8 29\n",
      "67 29\n",
      "84 30\n",
      "90 30\n",
      "97 31\n",
      "83 31\n",
      "59 32\n",
      "79 32\n",
      "5 33\n",
      "48 33\n",
      "53 33\n",
      "29 34\n",
      "21 36\n",
      "25 37\n",
      "52 37\n",
      "37 38\n",
      "64 38\n",
      "31 39\n",
      "49 39\n",
      "27 39\n",
      "61 39\n",
      "88 39\n",
      "50 39\n",
      "87 39\n",
      "26 40\n",
      "43 40\n",
      "94 41\n",
      "19 41\n",
      "44 41\n",
      "15 41\n",
      "73 41\n",
      "1 41\n",
      "36 41\n",
      "82 42\n",
      "71 43\n",
      "23 43\n",
      "65 43\n",
      "2 44\n",
      "4 44\n",
      "18 44\n",
      "85 45\n",
      "75 45\n",
      "24 45\n",
      "95 46\n",
      "39 46\n",
      "13 48\n",
      "9 49\n",
      "66 49\n",
      "20 49\n",
      "57 49\n",
      "10 50\n",
      "12 50\n"
     ]
    }
   ],
   "source": [
    "# maintain an array of length 100, \n",
    "# where the value i of which_K[element in A] is the corresponding K[j] in our problem\n",
    "which_K = [None] * (n + 1)\n",
    "i = 0\n",
    "for element in A: \n",
    "    if element == 'E':\n",
    "        i += 1\n",
    "    else:\n",
    "        which_K[int(element)] = i\n",
    "        print element, i\n"
   ]
  },
  {
   "cell_type": "code",
   "execution_count": 7,
   "metadata": {
    "collapsed": true
   },
   "outputs": [],
   "source": [
    "df = disjoint_forest(m + 1)\n",
    "extracted = [None] * m\n",
    "\n",
    "for i in xrange(1, n + 1): # which_K[0] = None by code\n",
    "    j = df.find_set(which_K[i])\n",
    "    if j != m: \n",
    "    # was (m+1) in textbook but we start with 0 in python\n",
    "        extracted[j] = i\n",
    "        df.union(j, j + 1)\n"
   ]
  },
  {
   "cell_type": "code",
   "execution_count": 8,
   "metadata": {
    "collapsed": false
   },
   "outputs": [
    {
     "name": "stdout",
     "output_type": "stream",
     "text": [
      "[22, 6, 3, 32, 11, 16, 30, 34, 35, 40, 45, 54, 55, 51, 60, 62, 7, 33, 38, 58, 68, 17, 28, 41, 14, 42, 46, 47, 56, 8, 63, 67, 59, 5, 29, 48, 21, 25, 37, 27, 26, 1, 15, 19, 2, 4, 18, 23, 13, 9]\n"
     ]
    }
   ],
   "source": [
    "\n",
    "print extracted"
   ]
  },
  {
   "cell_type": "code",
   "execution_count": 9,
   "metadata": {
    "collapsed": false
   },
   "outputs": [
    {
     "data": {
      "text/plain": [
       "50"
      ]
     },
     "execution_count": 9,
     "metadata": {},
     "output_type": "execute_result"
    }
   ],
   "source": [
    "len(extracted)\n"
   ]
  },
  {
   "cell_type": "code",
   "execution_count": null,
   "metadata": {
    "collapsed": true
   },
   "outputs": [],
   "source": []
  }
 ],
 "metadata": {
  "kernelspec": {
   "display_name": "Python 2",
   "language": "python",
   "name": "python2"
  },
  "language_info": {
   "codemirror_mode": {
    "name": "ipython",
    "version": 2
   },
   "file_extension": ".py",
   "mimetype": "text/x-python",
   "name": "python",
   "nbconvert_exporter": "python",
   "pygments_lexer": "ipython2",
   "version": "2.7.11"
  }
 },
 "nbformat": 4,
 "nbformat_minor": 1
}
